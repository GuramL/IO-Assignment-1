{
 "cells": [
  {
   "cell_type": "code",
   "execution_count": null,
   "metadata": {},
   "outputs": [],
   "source": [
    "################################### Preparation and data import ###################################\n",
    "\n",
    "import pandas as pd\n",
    "from numbers_parser import Document\n",
    "\n",
    "def read_numbers_file(local_path: str) -> pd.DataFrame:\n",
    "    \"\"\"\n",
    "    Reads the first table of the first sheet from a local .numbers file and \n",
    "    returns a Pandas DataFrame.\n",
    "    \"\"\"\n",
    "    # 1. Load the .numbers file\n",
    "    doc = Document(local_path)\n",
    "\n",
    "    # 2. doc.sheets is a property (similar to a list), so use doc.sheets (NOT doc.sheets())\n",
    "    sheets = doc.sheets  \n",
    "    first_sheet = sheets[0]\n",
    "\n",
    "    # 3. first_sheet.tables is also a property; use first_sheet.tables[0], not first_sheet.tables()\n",
    "    first_table = first_sheet.tables[0]\n",
    "\n",
    "    # 4. Extract rows as a list of tuples\n",
    "    data_rows = first_table.rows(values_only=True)\n",
    "    \n",
    "    # 5. Assume the first row is the header\n",
    "    if len(data_rows) > 1:\n",
    "        header = data_rows[0]\n",
    "        data = data_rows[1:]\n",
    "        df = pd.DataFrame(data, columns=header)\n",
    "    else:\n",
    "        # If there's only a header or no data\n",
    "        df = pd.DataFrame(data_rows)\n",
    "    \n",
    "    return df\n",
    "\n",
    "# Example usage:\n",
    "file_path1 = \"/workspaces/IO-Assignment-1/OTC_Sales.numbers\"\n",
    "file_path2 = \"/workspaces/IO-Assignment-1/OTC_Demographics.numbers\"\n",
    "file_path3 = \"/workspaces/IO-Assignment-1/OTC_Instruments.numbers\"\n",
    "\n",
    "df1 = read_numbers_file(file_path1)\n",
    "df2 = read_numbers_file(file_path2)\n",
    "df3 = read_numbers_file(file_path3)\n"
   ]
  }
 ],
 "metadata": {
  "kernelspec": {
   "display_name": "Python 3",
   "language": "python",
   "name": "python3"
  },
  "language_info": {
   "codemirror_mode": {
    "name": "ipython",
    "version": 3
   },
   "file_extension": ".py",
   "mimetype": "text/x-python",
   "name": "python",
   "nbconvert_exporter": "python",
   "pygments_lexer": "ipython3",
   "version": "3.12.1"
  }
 },
 "nbformat": 4,
 "nbformat_minor": 2
}
